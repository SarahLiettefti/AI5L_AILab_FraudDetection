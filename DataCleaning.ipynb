{
 "cells": [
  {
   "attachments": {},
   "cell_type": "markdown",
   "id": "ff3149c0",
   "metadata": {},
   "source": [
    "# Data Cleaning, feature engineering"
   ]
  },
  {
   "attachments": {},
   "cell_type": "markdown",
   "id": "1cb07fc8",
   "metadata": {},
   "source": [
    "Let's see the distributions of targets label"
   ]
  },
  {
   "cell_type": "code",
   "execution_count": 1,
   "id": "c1fa411c",
   "metadata": {},
   "outputs": [],
   "source": [
    "import pandas as pd\n",
    "import numpy as np\n",
    "from sklearn.model_selection import train_test_split"
   ]
  },
  {
   "cell_type": "code",
   "execution_count": 2,
   "id": "76fb2cf2",
   "metadata": {},
   "outputs": [],
   "source": [
    "def_feature = pd.read_csv(\"input/Xente_Variable_Definitions.csv\")\n",
    "data = pd.read_csv(\"input/training.csv\")\n",
    "X_test = pd.read_csv(\"input/test.csv\")\n",
    "sample_submission = pd.read_csv(\"input/sample_submission.csv\")\n",
    "\n",
    "data = data.dropna(axis=0) #Drop observations/rows with missing values\n",
    "y = data.FraudResult #The target label\n",
    "X = data.copy()\n",
    "X.drop(['FraudResult'], axis=1, inplace=True) #Only the features data\n",
    "cols_cat = list(data.dtypes[data.dtypes==\"object\"].index) #liste des feature categorical"
   ]
  },
  {
   "cell_type": "code",
   "execution_count": 4,
   "id": "21c77a26",
   "metadata": {},
   "outputs": [
    {
     "name": "stdout",
     "output_type": "stream",
     "text": [
      "FraudResult\n",
      "0    95469\n",
      "1      193\n",
      "Name: count, dtype: int64\n"
     ]
    }
   ],
   "source": [
    "print(y.value_counts())"
   ]
  },
  {
   "attachments": {},
   "cell_type": "markdown",
   "id": "92755cdd",
   "metadata": {},
   "source": [
    "Les classe à prédire ne sont pas équitable, il y a bcp plus de classe 0 que 1. Ca veut dire que si le modèle prédit toujours 0 il aura qd mm un bon résultat alors qu'il fait au hasard. C'est ca le problème principale. "
   ]
  }
 ],
 "metadata": {
  "kernelspec": {
   "display_name": "AILab-ECAM3",
   "language": "python",
   "name": "python3"
  },
  "language_info": {
   "codemirror_mode": {
    "name": "ipython",
    "version": 3
   },
   "file_extension": ".py",
   "mimetype": "text/x-python",
   "name": "python",
   "nbconvert_exporter": "python",
   "pygments_lexer": "ipython3",
   "version": "3.9.16"
  }
 },
 "nbformat": 4,
 "nbformat_minor": 5
}
