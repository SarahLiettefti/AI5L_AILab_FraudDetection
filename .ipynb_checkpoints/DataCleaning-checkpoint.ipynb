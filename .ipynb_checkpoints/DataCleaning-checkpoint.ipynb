{
 "cells": [
  {
   "cell_type": "markdown",
   "id": "ff3149c0",
   "metadata": {},
   "source": [
    "# Data Cleaning, feature engineering"
   ]
  },
  {
   "cell_type": "markdown",
   "id": "1cb07fc8",
   "metadata": {},
   "source": [
    "Let's see the distributions of targets label"
   ]
  },
  {
   "cell_type": "code",
   "execution_count": 46,
   "id": "c1fa411c",
   "metadata": {},
   "outputs": [],
   "source": [
    "import pandas as pd\n",
    "import numpy as np\n",
    "from sklearn.model_selection import train_test_split\n",
    "from sklearn.ensemble import RandomForestClassifier\n",
    "from sklearn.metrics import mean_absolute_error\n",
    "from sklearn.model_selection import train_test_split\n",
    "pd.set_option('max_colwidth', None)"
   ]
  },
  {
   "cell_type": "code",
   "execution_count": 54,
   "id": "76fb2cf2",
   "metadata": {},
   "outputs": [
    {
     "name": "stdout",
     "output_type": "stream",
     "text": [
      "TransactionId : 95662 \n",
      "BatchId : 94809 \n",
      "AccountId : 3633 \n",
      "SubscriptionId : 3627 \n",
      "CustomerId : 3742 \n",
      "CurrencyCode : 1 \n",
      "CountryCode : 1 \n",
      "ProviderId : 6 \n",
      "ProductId : 23 \n",
      "ProductCategory : 9 \n",
      "ChannelId : 4 \n",
      "Amount : 1676 \n",
      "Value : 1517 \n",
      "TransactionStartTime : 94556 \n",
      "PricingStrategy : 4 \n",
      "The colomns : ['CurrencyCode', 'CountryCode'] have only one value\n"
     ]
    }
   ],
   "source": [
    "def_feature = pd.read_csv(\"input/Xente_Variable_Definitions.csv\")\n",
    "data = pd.read_csv(\"input/training.csv\")\n",
    "X_test = pd.read_csv(\"input/test.csv\")\n",
    "sample_submission = pd.read_csv(\"input/sample_submission.csv\")\n",
    "\n",
    "data = data.dropna(axis=0) #Drop observations/rows with missing values\n",
    "y = data.FraudResult #The target label\n",
    "X = data.copy()\n",
    "X.drop(['FraudResult'], axis=1, inplace=True) #Only the features data\n",
    "X, cols_cat, cols_unique_value = delete_col_unique_val(X) #deal with unique values\n",
    "train_X, val_X, train_y, val_y = train_test_split(X, y, random_state = 0)\n",
    "cols_cat = list(data.dtypes[data.dtypes==\"object\"].index) #liste des feature categorical\n",
    "object_cols = [col for col in train_X.columns if train_X[col].dtype == \"object\"]"
   ]
  },
  {
   "cell_type": "code",
   "execution_count": 49,
   "id": "fd97eba6",
   "metadata": {},
   "outputs": [],
   "source": [
    "def score_dataset(X_train, X_valid, y_train, y_valid):#fucntion to test but have to improve\n",
    "    model = RandomForestClassifier(random_state=0)\n",
    "    model.fit(X_train, y_train)\n",
    "    preds = model.predict(X_valid)\n",
    "    return mean_absolute_error(y_valid, preds)"
   ]
  },
  {
   "cell_type": "code",
   "execution_count": 4,
   "id": "21c77a26",
   "metadata": {},
   "outputs": [
    {
     "name": "stdout",
     "output_type": "stream",
     "text": [
      "0    95469\n",
      "1      193\n",
      "Name: FraudResult, dtype: int64\n"
     ]
    }
   ],
   "source": [
    "print(y.value_counts())"
   ]
  },
  {
   "cell_type": "markdown",
   "id": "92755cdd",
   "metadata": {},
   "source": [
    "Les classe à prédire ne sont pas équitable, il y a bcp plus de classe 0 que 1. Ca veut dire que si le modèle prédit toujours 0 il aura qd mm un bon résultat alors qu'il fait au hasard. C'est ca le problème principale. "
   ]
  },
  {
   "cell_type": "code",
   "execution_count": 44,
   "id": "df18889c",
   "metadata": {},
   "outputs": [
    {
     "name": "stdout",
     "output_type": "stream",
     "text": [
      "(95662, 15)\n",
      "Series([], dtype: int64)\n",
      "<class 'pandas.core.frame.DataFrame'>\n",
      "RangeIndex: 95662 entries, 0 to 95661\n",
      "Data columns (total 15 columns):\n",
      " #   Column                Non-Null Count  Dtype  \n",
      "---  ------                --------------  -----  \n",
      " 0   TransactionId         95662 non-null  object \n",
      " 1   BatchId               95662 non-null  object \n",
      " 2   AccountId             95662 non-null  object \n",
      " 3   SubscriptionId        95662 non-null  object \n",
      " 4   CustomerId            95662 non-null  object \n",
      " 5   CurrencyCode          95662 non-null  object \n",
      " 6   CountryCode           95662 non-null  int64  \n",
      " 7   ProviderId            95662 non-null  object \n",
      " 8   ProductId             95662 non-null  object \n",
      " 9   ProductCategory       95662 non-null  object \n",
      " 10  ChannelId             95662 non-null  object \n",
      " 11  Amount                95662 non-null  float64\n",
      " 12  Value                 95662 non-null  int64  \n",
      " 13  TransactionStartTime  95662 non-null  object \n",
      " 14  PricingStrategy       95662 non-null  int64  \n",
      "dtypes: float64(1), int64(3), object(11)\n",
      "memory usage: 10.9+ MB\n"
     ]
    }
   ],
   "source": [
    "# Shape of training data (num_rows, num_columns)\n",
    "print(X.shape)\n",
    "\n",
    "# Number of missing values in each column of training data\n",
    "missing_val_count_by_column = (X.isnull().sum())\n",
    "print(missing_val_count_by_column[missing_val_count_by_column > 0])\n",
    "\n",
    "X.info() #Il n'y a pas de valeur manquante"
   ]
  },
  {
   "cell_type": "markdown",
   "id": "3eaecf4d",
   "metadata": {},
   "source": [
    "## First value cleaning\n",
    "We can delete the columns with only one value as it can't influence the model. We have already lightened the dataset"
   ]
  },
  {
   "cell_type": "code",
   "execution_count": 50,
   "id": "c7085a89",
   "metadata": {},
   "outputs": [
    {
     "name": "stdout",
     "output_type": "stream",
     "text": [
      "TransactionId : 95662 \n",
      "BatchId : 94809 \n",
      "AccountId : 3633 \n",
      "SubscriptionId : 3627 \n",
      "CustomerId : 3742 \n",
      "CurrencyCode : 1 \n",
      "CountryCode : 1 \n",
      "ProviderId : 6 \n",
      "ProductId : 23 \n",
      "ProductCategory : 9 \n",
      "ChannelId : 4 \n",
      "Amount : 1676 \n",
      "Value : 1517 \n",
      "TransactionStartTime : 94556 \n",
      "PricingStrategy : 4 \n",
      "FraudResult : 2 \n",
      "The colomns : ['CurrencyCode', 'CountryCode'] have only one value\n"
     ]
    }
   ],
   "source": [
    "cols_unique_value_data = []\n",
    "\n",
    "for col in data.columns : \n",
    "    if len(data[col].unique()) == 1:\n",
    "        cols_unique_value_data.append(col)\n",
    "    else :\n",
    "        pass\n",
    "    print(f'{col} : {len(data[col].unique())} ')\n",
    "\n",
    "print(f'The colomns : {cols_unique_value_data} have only one value')\n",
    "\n",
    "#X.drop(cols_unique_value, axis=1, inplace=True)\n",
    "#cols_cat = list(X.dtypes[X.dtypes==\"object\"].index) #liste des feature categorical"
   ]
  },
  {
   "cell_type": "code",
   "execution_count": 51,
   "id": "ab349b43",
   "metadata": {},
   "outputs": [],
   "source": [
    "def delete_col_unique_val(X):\n",
    "    cols_unique_value = []\n",
    "\n",
    "    for col in X.columns : \n",
    "        if len(X[col].unique()) == 1:\n",
    "            cols_unique_value.append(col)\n",
    "        else :\n",
    "            pass\n",
    "        print(f'{col} : {len(X[col].unique())} ')\n",
    "\n",
    "    print(f'The colomns : {cols_unique_value} have only one value')\n",
    "\n",
    "    X.drop(cols_unique_value, axis=1, inplace=True)\n",
    "    cols_cat = list(X.dtypes[X.dtypes==\"object\"].index) #liste des feature categorical\n",
    "    return X, cols_cat, cols_unique_value"
   ]
  },
  {
   "cell_type": "markdown",
   "id": "898640cf",
   "metadata": {},
   "source": [
    "## Categorical Variables\n",
    "On kaggle we learn there is 3 way to manage non-numeric data :\n",
    "### 1) Drop Categorical Variables\n",
    "\n",
    "\n",
    "### 2) Ordinal Encoding : for ordinal variables\n",
    "Doit regarder ce que signifie les colonnes \n",
    "\n",
    "\n",
    "### 3) One-Hot Encoding : for nominal variables when the features don't use more than 15 different values\n",
    "By only looking at the number of unique value, we can use this technic on the columns : ProviderId, ProductCategory, ChannelId and maybe ProductId. \t\n"
   ]
  },
  {
   "cell_type": "code",
   "execution_count": 38,
   "id": "96730717",
   "metadata": {},
   "outputs": [
    {
     "data": {
      "text/html": [
       "<div>\n",
       "<style scoped>\n",
       "    .dataframe tbody tr th:only-of-type {\n",
       "        vertical-align: middle;\n",
       "    }\n",
       "\n",
       "    .dataframe tbody tr th {\n",
       "        vertical-align: top;\n",
       "    }\n",
       "\n",
       "    .dataframe thead th {\n",
       "        text-align: right;\n",
       "    }\n",
       "</style>\n",
       "<table border=\"1\" class=\"dataframe\">\n",
       "  <thead>\n",
       "    <tr style=\"text-align: right;\">\n",
       "      <th></th>\n",
       "      <th>TransactionId</th>\n",
       "      <th>BatchId</th>\n",
       "      <th>AccountId</th>\n",
       "      <th>SubscriptionId</th>\n",
       "      <th>CustomerId</th>\n",
       "      <th>ProviderId</th>\n",
       "      <th>ProductId</th>\n",
       "      <th>ProductCategory</th>\n",
       "      <th>ChannelId</th>\n",
       "      <th>TransactionStartTime</th>\n",
       "    </tr>\n",
       "  </thead>\n",
       "  <tbody>\n",
       "    <tr>\n",
       "      <th>count</th>\n",
       "      <td>95662</td>\n",
       "      <td>95662</td>\n",
       "      <td>95662</td>\n",
       "      <td>95662</td>\n",
       "      <td>95662</td>\n",
       "      <td>95662</td>\n",
       "      <td>95662</td>\n",
       "      <td>95662</td>\n",
       "      <td>95662</td>\n",
       "      <td>95662</td>\n",
       "    </tr>\n",
       "    <tr>\n",
       "      <th>unique</th>\n",
       "      <td>95662</td>\n",
       "      <td>94809</td>\n",
       "      <td>3633</td>\n",
       "      <td>3627</td>\n",
       "      <td>3742</td>\n",
       "      <td>6</td>\n",
       "      <td>23</td>\n",
       "      <td>9</td>\n",
       "      <td>4</td>\n",
       "      <td>94556</td>\n",
       "    </tr>\n",
       "    <tr>\n",
       "      <th>top</th>\n",
       "      <td>TransactionId_76871</td>\n",
       "      <td>BatchId_67019</td>\n",
       "      <td>AccountId_4841</td>\n",
       "      <td>SubscriptionId_3829</td>\n",
       "      <td>CustomerId_7343</td>\n",
       "      <td>ProviderId_4</td>\n",
       "      <td>ProductId_6</td>\n",
       "      <td>financial_services</td>\n",
       "      <td>ChannelId_3</td>\n",
       "      <td>2018-12-24T16:30:13Z</td>\n",
       "    </tr>\n",
       "    <tr>\n",
       "      <th>freq</th>\n",
       "      <td>1</td>\n",
       "      <td>28</td>\n",
       "      <td>30893</td>\n",
       "      <td>32630</td>\n",
       "      <td>4091</td>\n",
       "      <td>38189</td>\n",
       "      <td>32635</td>\n",
       "      <td>45405</td>\n",
       "      <td>56935</td>\n",
       "      <td>17</td>\n",
       "    </tr>\n",
       "  </tbody>\n",
       "</table>\n",
       "</div>"
      ],
      "text/plain": [
       "              TransactionId        BatchId       AccountId  \\\n",
       "count                 95662          95662           95662   \n",
       "unique                95662          94809            3633   \n",
       "top     TransactionId_76871  BatchId_67019  AccountId_4841   \n",
       "freq                      1             28           30893   \n",
       "\n",
       "             SubscriptionId       CustomerId    ProviderId    ProductId  \\\n",
       "count                 95662            95662         95662        95662   \n",
       "unique                 3627             3742             6           23   \n",
       "top     SubscriptionId_3829  CustomerId_7343  ProviderId_4  ProductId_6   \n",
       "freq                  32630             4091         38189        32635   \n",
       "\n",
       "           ProductCategory    ChannelId  TransactionStartTime  \n",
       "count                95662        95662                 95662  \n",
       "unique                   9            4                 94556  \n",
       "top     financial_services  ChannelId_3  2018-12-24T16:30:13Z  \n",
       "freq                 45405        56935                    17  "
      ]
     },
     "execution_count": 38,
     "metadata": {},
     "output_type": "execute_result"
    }
   ],
   "source": [
    "X.describe(include=object, exclude=[np.int64, np.float64])"
   ]
  },
  {
   "cell_type": "code",
   "execution_count": 41,
   "id": "1ffb6290",
   "metadata": {},
   "outputs": [
    {
     "data": {
      "text/html": [
       "<div>\n",
       "<style scoped>\n",
       "    .dataframe tbody tr th:only-of-type {\n",
       "        vertical-align: middle;\n",
       "    }\n",
       "\n",
       "    .dataframe tbody tr th {\n",
       "        vertical-align: top;\n",
       "    }\n",
       "\n",
       "    .dataframe thead th {\n",
       "        text-align: right;\n",
       "    }\n",
       "</style>\n",
       "<table border=\"1\" class=\"dataframe\">\n",
       "  <thead>\n",
       "    <tr style=\"text-align: right;\">\n",
       "      <th></th>\n",
       "      <th>Column Name</th>\n",
       "      <th>Definition</th>\n",
       "    </tr>\n",
       "  </thead>\n",
       "  <tbody>\n",
       "    <tr>\n",
       "      <th>0</th>\n",
       "      <td>TransactionId</td>\n",
       "      <td>Unique �transaction identifier on platform</td>\n",
       "    </tr>\n",
       "    <tr>\n",
       "      <th>1</th>\n",
       "      <td>BatchId</td>\n",
       "      <td>Unique number assigned to a batch of transactions for processing</td>\n",
       "    </tr>\n",
       "    <tr>\n",
       "      <th>2</th>\n",
       "      <td>AccountId</td>\n",
       "      <td>Unique number identifying the customer on platform</td>\n",
       "    </tr>\n",
       "    <tr>\n",
       "      <th>3</th>\n",
       "      <td>SubscriptionId</td>\n",
       "      <td>Unique number identifying the customer subscription</td>\n",
       "    </tr>\n",
       "    <tr>\n",
       "      <th>4</th>\n",
       "      <td>CustomerId</td>\n",
       "      <td>Unique identifier attached to Account</td>\n",
       "    </tr>\n",
       "    <tr>\n",
       "      <th>5</th>\n",
       "      <td>CurrencyCode</td>\n",
       "      <td>Country currency</td>\n",
       "    </tr>\n",
       "    <tr>\n",
       "      <th>6</th>\n",
       "      <td>CountryCode</td>\n",
       "      <td>Numerical geographical code of country</td>\n",
       "    </tr>\n",
       "    <tr>\n",
       "      <th>7</th>\n",
       "      <td>ProviderId</td>\n",
       "      <td>Source provider of Item �bought.</td>\n",
       "    </tr>\n",
       "    <tr>\n",
       "      <th>8</th>\n",
       "      <td>ProductId</td>\n",
       "      <td>Item name being bought.</td>\n",
       "    </tr>\n",
       "    <tr>\n",
       "      <th>9</th>\n",
       "      <td>ProductCategory</td>\n",
       "      <td>ProductIds are organized into these broader product categories.</td>\n",
       "    </tr>\n",
       "    <tr>\n",
       "      <th>10</th>\n",
       "      <td>ChannelId</td>\n",
       "      <td>Identifies if customer used web,Android, IOS, pay later or checkout.</td>\n",
       "    </tr>\n",
       "    <tr>\n",
       "      <th>11</th>\n",
       "      <td>Amount</td>\n",
       "      <td>Value of the transaction. Positive for debits from customer account and negative for credit into customer account</td>\n",
       "    </tr>\n",
       "    <tr>\n",
       "      <th>12</th>\n",
       "      <td>Value</td>\n",
       "      <td>Absolute value of the amount</td>\n",
       "    </tr>\n",
       "    <tr>\n",
       "      <th>13</th>\n",
       "      <td>TransactionStartTime</td>\n",
       "      <td>Transaction start time</td>\n",
       "    </tr>\n",
       "    <tr>\n",
       "      <th>14</th>\n",
       "      <td>PricingStrategy</td>\n",
       "      <td>Category of Xente's pricing structure for merchants</td>\n",
       "    </tr>\n",
       "    <tr>\n",
       "      <th>15</th>\n",
       "      <td>FraudResult</td>\n",
       "      <td>Fraud status of transaction 1 -yes or 0-No</td>\n",
       "    </tr>\n",
       "  </tbody>\n",
       "</table>\n",
       "</div>"
      ],
      "text/plain": [
       "             Column Name  \\\n",
       "0          TransactionId   \n",
       "1                BatchId   \n",
       "2              AccountId   \n",
       "3         SubscriptionId   \n",
       "4             CustomerId   \n",
       "5           CurrencyCode   \n",
       "6            CountryCode   \n",
       "7             ProviderId   \n",
       "8              ProductId   \n",
       "9        ProductCategory   \n",
       "10             ChannelId   \n",
       "11                Amount   \n",
       "12                 Value   \n",
       "13  TransactionStartTime   \n",
       "14       PricingStrategy   \n",
       "15           FraudResult   \n",
       "\n",
       "                                                                                                           Definition  \n",
       "0                                                                          Unique �transaction identifier on platform  \n",
       "1                                                    Unique number assigned to a batch of transactions for processing  \n",
       "2                                                                  Unique number identifying the customer on platform  \n",
       "3                                                                 Unique number identifying the customer subscription  \n",
       "4                                                                               Unique identifier attached to Account  \n",
       "5                                                                                                    Country currency  \n",
       "6                                                                              Numerical geographical code of country  \n",
       "7                                                                                    Source provider of Item �bought.  \n",
       "8                                                                                             Item name being bought.  \n",
       "9                                                     ProductIds are organized into these broader product categories.  \n",
       "10                                               Identifies if customer used web,Android, IOS, pay later or checkout.  \n",
       "11  Value of the transaction. Positive for debits from customer account and negative for credit into customer account  \n",
       "12                                                                                       Absolute value of the amount  \n",
       "13                                                                                             Transaction start time  \n",
       "14                                                                Category of Xente's pricing structure for merchants  \n",
       "15                                                                         Fraud status of transaction 1 -yes or 0-No  "
      ]
     },
     "execution_count": 41,
     "metadata": {},
     "output_type": "execute_result"
    }
   ],
   "source": [
    "def_feature"
   ]
  },
  {
   "cell_type": "markdown",
   "id": "f4673f61",
   "metadata": {},
   "source": []
  },
  {
   "cell_type": "code",
   "execution_count": 55,
   "id": "0cf7acc6",
   "metadata": {},
   "outputs": [
    {
     "name": "stderr",
     "output_type": "stream",
     "text": [
      "C:\\Users\\sarah\\anaconda3\\lib\\site-packages\\sklearn\\utils\\validation.py:1688: FutureWarning: Feature names only support names that are all strings. Got feature names with dtypes: ['int', 'str']. An error will be raised in 1.2.\n",
      "  warnings.warn(\n"
     ]
    },
    {
     "name": "stdout",
     "output_type": "stream",
     "text": [
      "0.0004181301220939957\n"
     ]
    },
    {
     "name": "stderr",
     "output_type": "stream",
     "text": [
      "C:\\Users\\sarah\\anaconda3\\lib\\site-packages\\sklearn\\utils\\validation.py:1688: FutureWarning: Feature names only support names that are all strings. Got feature names with dtypes: ['int', 'str']. An error will be raised in 1.2.\n",
      "  warnings.warn(\n"
     ]
    }
   ],
   "source": [
    "# One-Hot Encoding\n",
    "from sklearn.preprocessing import OneHotEncoder\n",
    "low_cardinality_cols=[\"ProviderId\", \"ProductCategory\", \"ChannelId\"]\n",
    "\n",
    "OH_encoder = OneHotEncoder(handle_unknown='ignore', sparse=False)\n",
    "OH_cols_train = pd.DataFrame(OH_encoder.fit_transform(train_X[low_cardinality_cols]))\n",
    "OH_cols_valid = pd.DataFrame(OH_encoder.transform(val_X[low_cardinality_cols]))\n",
    "# One-hot encoding removed index; put it back\n",
    "OH_cols_train.index = train_X.index\n",
    "OH_cols_valid.index = val_X.index\n",
    "\n",
    "# Remove categorical columns (will replace with one-hot encoding)\n",
    "num_X_train = train_X.drop(object_cols, axis=1)\n",
    "num_X_valid = val_X.drop(object_cols, axis=1)\n",
    "\n",
    "OH_X_train = pd.concat([num_X_train, OH_cols_train], axis=1)\n",
    "OH_X_valid = pd.concat([num_X_valid, OH_cols_valid], axis=1)\n",
    "\n",
    "print(score_dataset(OH_X_train, OH_X_valid, train_y, val_y))"
   ]
  }
 ],
 "metadata": {
  "kernelspec": {
   "display_name": "Python 3 (ipykernel)",
   "language": "python",
   "name": "python3"
  },
  "language_info": {
   "codemirror_mode": {
    "name": "ipython",
    "version": 3
   },
   "file_extension": ".py",
   "mimetype": "text/x-python",
   "name": "python",
   "nbconvert_exporter": "python",
   "pygments_lexer": "ipython3",
   "version": "3.9.12"
  }
 },
 "nbformat": 4,
 "nbformat_minor": 5
}
