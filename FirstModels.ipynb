{
 "cells": [
  {
   "cell_type": "markdown",
   "id": "d6472181",
   "metadata": {},
   "source": [
    "Sources : \n",
    "https://scikit-learn.org/stable/supervised_learning.html\n",
    "\n",
    "### Libraries"
   ]
  },
  {
   "cell_type": "code",
   "execution_count": 1,
   "id": "7cabe2d8",
   "metadata": {},
   "outputs": [],
   "source": [
    "import pandas as pd\n",
    "from sklearn.tree import DecisionTreeRegressor, DecisionTreeClassifier\n",
    "import numpy as np\n",
    "from sklearn.metrics import mean_absolute_error, confusion_matrix\n",
    "from sklearn.model_selection import train_test_split\n",
    "from sklearn.ensemble import RandomForestClassifier\n",
    "from EvaluationMetric import *"
   ]
  },
  {
   "cell_type": "markdown",
   "id": "8024b072",
   "metadata": {},
   "source": [
    "### Data Loading"
   ]
  },
  {
   "cell_type": "code",
   "execution_count": 2,
   "id": "52285eda",
   "metadata": {},
   "outputs": [],
   "source": [
    "def_feature = pd.read_csv(\"input/Xente_Variable_Definitions.csv\")\n",
    "data = pd.read_csv(\"input/training.csv\")\n",
    "X_test = pd.read_csv(\"input/test.csv\")\n",
    "sample_submission = pd.read_csv(\"input/sample_submission.csv\")\n",
    "\n",
    "data = data.dropna(axis=0) #Drop observations/rows with missing values\n",
    "y = data.FraudResult #The target label\n",
    "X = data.copy()\n",
    "X.drop(['FraudResult'], axis=1, inplace=True) #Only the features data\n",
    "train_X, val_X, train_y, val_y = train_test_split(X, y, random_state = 0)\n",
    "cols_cat = list(data.dtypes[data.dtypes==\"object\"].index) #liste des feature categorical"
   ]
  },
  {
   "attachments": {},
   "cell_type": "markdown",
   "id": "56fc0204",
   "metadata": {},
   "source": [
    "# Decision Tree Classifier\n",
    "Very simple model with no feature engineering to have a reference of performance when we improve out model. The missing values are droped for simplicity. At first, the categorical values are also droped. We want to do Binary Classification"
   ]
  },
  {
   "cell_type": "code",
   "execution_count": 3,
   "id": "769e60d1",
   "metadata": {},
   "outputs": [
    {
     "data": {
      "text/html": [
       "<div>\n",
       "<style scoped>\n",
       "    .dataframe tbody tr th:only-of-type {\n",
       "        vertical-align: middle;\n",
       "    }\n",
       "\n",
       "    .dataframe tbody tr th {\n",
       "        vertical-align: top;\n",
       "    }\n",
       "\n",
       "    .dataframe thead th {\n",
       "        text-align: right;\n",
       "    }\n",
       "</style>\n",
       "<table border=\"1\" class=\"dataframe\">\n",
       "  <thead>\n",
       "    <tr style=\"text-align: right;\">\n",
       "      <th></th>\n",
       "      <th>CountryCode</th>\n",
       "      <th>Amount</th>\n",
       "      <th>Value</th>\n",
       "      <th>PricingStrategy</th>\n",
       "    </tr>\n",
       "  </thead>\n",
       "  <tbody>\n",
       "    <tr>\n",
       "      <th>43878</th>\n",
       "      <td>256</td>\n",
       "      <td>2500.0</td>\n",
       "      <td>2500</td>\n",
       "      <td>2</td>\n",
       "    </tr>\n",
       "    <tr>\n",
       "      <th>55031</th>\n",
       "      <td>256</td>\n",
       "      <td>1000.0</td>\n",
       "      <td>1000</td>\n",
       "      <td>2</td>\n",
       "    </tr>\n",
       "    <tr>\n",
       "      <th>28483</th>\n",
       "      <td>256</td>\n",
       "      <td>2000.0</td>\n",
       "      <td>2000</td>\n",
       "      <td>2</td>\n",
       "    </tr>\n",
       "    <tr>\n",
       "      <th>7328</th>\n",
       "      <td>256</td>\n",
       "      <td>-1000.0</td>\n",
       "      <td>1000</td>\n",
       "      <td>2</td>\n",
       "    </tr>\n",
       "    <tr>\n",
       "      <th>18860</th>\n",
       "      <td>256</td>\n",
       "      <td>-5000.0</td>\n",
       "      <td>5000</td>\n",
       "      <td>2</td>\n",
       "    </tr>\n",
       "  </tbody>\n",
       "</table>\n",
       "</div>"
      ],
      "text/plain": [
       "       CountryCode  Amount  Value  PricingStrategy\n",
       "43878          256  2500.0   2500                2\n",
       "55031          256  1000.0   1000                2\n",
       "28483          256  2000.0   2000                2\n",
       "7328           256 -1000.0   1000                2\n",
       "18860          256 -5000.0   5000                2"
      ]
     },
     "execution_count": 3,
     "metadata": {},
     "output_type": "execute_result"
    }
   ],
   "source": [
    "train_y1 = train_y.copy()\n",
    "train_X1 = train_X.copy()\n",
    "val_y1 = val_y.copy()\n",
    "val_X1 = val_X.copy()\n",
    "train_X1.drop(cols_cat, axis=1, inplace=True) #Delete categorical data\n",
    "val_X1.drop(cols_cat, axis=1, inplace=True) #Delete categorical data\n",
    "#train_X1 = train_X.select_dtypes(exclude=['object'])\n",
    "#val_X1 = val_X.select_dtypes(exclude=['object'])\n",
    "train_X1.head()"
   ]
  },
  {
   "cell_type": "code",
   "execution_count": 4,
   "id": "628f94da",
   "metadata": {},
   "outputs": [
    {
     "name": "stdout",
     "output_type": "stream",
     "text": [
      "Mean Absolute Error : 0.0004181301220939957\n",
      "Nombre de prédictions correcte : 23906\n",
      "Nombre de prédictions incorrecte : 10\n",
      "Nombre de fraude non prédites : 7\n",
      "Nombre de pas fraude prédite en fraude : 3\n",
      "Nombre de fraude bien prédite : 33\n",
      "Nombre de pas fraude bien prédite : 23873\n",
      "Nombre de Fraude dans le dataset : 40\n",
      "Nombre total : 23916\n",
      "MAE : 0.0004181301220939957\n",
      "       FraudResult  Predictions\n",
      "81748            1            0\n",
      "18008            0            1\n",
      "71689            1            0\n",
      "55763            0            1\n",
      "70529            1            0\n",
      "17883            1            0\n",
      "81449            1            0\n",
      "55757            0            1\n",
      "71246            1            0\n",
      "70047            1            0\n"
     ]
    },
    {
     "data": {
      "text/html": [
       "<div>\n",
       "<style scoped>\n",
       "    .dataframe tbody tr th:only-of-type {\n",
       "        vertical-align: middle;\n",
       "    }\n",
       "\n",
       "    .dataframe tbody tr th {\n",
       "        vertical-align: top;\n",
       "    }\n",
       "\n",
       "    .dataframe thead th {\n",
       "        text-align: right;\n",
       "    }\n",
       "</style>\n",
       "<table border=\"1\" class=\"dataframe\">\n",
       "  <thead>\n",
       "    <tr style=\"text-align: right;\">\n",
       "      <th></th>\n",
       "      <th>CountryCode</th>\n",
       "      <th>Amount</th>\n",
       "      <th>Value</th>\n",
       "      <th>PricingStrategy</th>\n",
       "      <th>FraudResult</th>\n",
       "      <th>Predictions</th>\n",
       "    </tr>\n",
       "  </thead>\n",
       "  <tbody>\n",
       "    <tr>\n",
       "      <th>69075</th>\n",
       "      <td>256</td>\n",
       "      <td>2000.0</td>\n",
       "      <td>2000</td>\n",
       "      <td>4</td>\n",
       "      <td>0</td>\n",
       "      <td>0</td>\n",
       "    </tr>\n",
       "    <tr>\n",
       "      <th>65709</th>\n",
       "      <td>256</td>\n",
       "      <td>1110.0</td>\n",
       "      <td>1110</td>\n",
       "      <td>2</td>\n",
       "      <td>0</td>\n",
       "      <td>0</td>\n",
       "    </tr>\n",
       "    <tr>\n",
       "      <th>5430</th>\n",
       "      <td>256</td>\n",
       "      <td>2000.0</td>\n",
       "      <td>2000</td>\n",
       "      <td>2</td>\n",
       "      <td>0</td>\n",
       "      <td>0</td>\n",
       "    </tr>\n",
       "    <tr>\n",
       "      <th>82375</th>\n",
       "      <td>256</td>\n",
       "      <td>-1000.0</td>\n",
       "      <td>1000</td>\n",
       "      <td>2</td>\n",
       "      <td>0</td>\n",
       "      <td>0</td>\n",
       "    </tr>\n",
       "    <tr>\n",
       "      <th>60896</th>\n",
       "      <td>256</td>\n",
       "      <td>1000.0</td>\n",
       "      <td>1000</td>\n",
       "      <td>2</td>\n",
       "      <td>0</td>\n",
       "      <td>0</td>\n",
       "    </tr>\n",
       "    <tr>\n",
       "      <th>6835</th>\n",
       "      <td>256</td>\n",
       "      <td>-496.0</td>\n",
       "      <td>496</td>\n",
       "      <td>2</td>\n",
       "      <td>0</td>\n",
       "      <td>0</td>\n",
       "    </tr>\n",
       "    <tr>\n",
       "      <th>7384</th>\n",
       "      <td>256</td>\n",
       "      <td>1500.0</td>\n",
       "      <td>1500</td>\n",
       "      <td>2</td>\n",
       "      <td>0</td>\n",
       "      <td>0</td>\n",
       "    </tr>\n",
       "    <tr>\n",
       "      <th>71953</th>\n",
       "      <td>256</td>\n",
       "      <td>7000.0</td>\n",
       "      <td>7000</td>\n",
       "      <td>2</td>\n",
       "      <td>0</td>\n",
       "      <td>0</td>\n",
       "    </tr>\n",
       "    <tr>\n",
       "      <th>5423</th>\n",
       "      <td>256</td>\n",
       "      <td>1000.0</td>\n",
       "      <td>1000</td>\n",
       "      <td>2</td>\n",
       "      <td>0</td>\n",
       "      <td>0</td>\n",
       "    </tr>\n",
       "    <tr>\n",
       "      <th>49255</th>\n",
       "      <td>256</td>\n",
       "      <td>1000.0</td>\n",
       "      <td>1000</td>\n",
       "      <td>2</td>\n",
       "      <td>0</td>\n",
       "      <td>0</td>\n",
       "    </tr>\n",
       "  </tbody>\n",
       "</table>\n",
       "</div>"
      ],
      "text/plain": [
       "       CountryCode  Amount  Value  PricingStrategy  FraudResult  Predictions\n",
       "69075          256  2000.0   2000                4            0            0\n",
       "65709          256  1110.0   1110                2            0            0\n",
       "5430           256  2000.0   2000                2            0            0\n",
       "82375          256 -1000.0   1000                2            0            0\n",
       "60896          256  1000.0   1000                2            0            0\n",
       "6835           256  -496.0    496                2            0            0\n",
       "7384           256  1500.0   1500                2            0            0\n",
       "71953          256  7000.0   7000                2            0            0\n",
       "5423           256  1000.0   1000                2            0            0\n",
       "49255          256  1000.0   1000                2            0            0"
      ]
     },
     "execution_count": 4,
     "metadata": {},
     "output_type": "execute_result"
    }
   ],
   "source": [
    "first_model_decision_tree = DecisionTreeClassifier(random_state=1)\n",
    "first_model_decision_tree.fit(train_X1, train_y1)\n",
    "predicted_first_model = first_model_decision_tree.predict(val_X1)\n",
    "\n",
    "df_with_res = val_X1.copy()\n",
    "df_with_res = df_with_res.join(val_y1.copy())\n",
    "df_with_res[\"Predictions\"] = list(predicted_first_model)\n",
    "print(f'Mean Absolute Error : {mean_absolute_error(val_y, predicted_first_model)}')\n",
    "print(f'Nombre de prédictions correcte : {df_with_res.Predictions[(df_with_res[\"Predictions\"] == df_with_res[\"FraudResult\"] )].count()}')\n",
    "print(f'Nombre de prédictions incorrecte : {df_with_res.Predictions[(df_with_res[\"Predictions\"] != df_with_res[\"FraudResult\"] )].count()}')\n",
    "print(f'Nombre de fraude non prédites : {df_with_res.Predictions[(df_with_res[\"Predictions\"] != df_with_res[\"FraudResult\"] )&(df_with_res[\"FraudResult\"]==1)].count()}')\n",
    "print(f'Nombre de pas fraude prédite en fraude : {df_with_res.Predictions[(df_with_res[\"Predictions\"] != df_with_res[\"FraudResult\"] )&(df_with_res[\"FraudResult\"]==0)].count()}')\n",
    "print(f'Nombre de fraude bien prédite : {df_with_res.Predictions[(df_with_res[\"Predictions\"] == df_with_res[\"FraudResult\"] )&(df_with_res[\"FraudResult\"]==1)].count()}')\n",
    "print(f'Nombre de pas fraude bien prédite : {df_with_res.Predictions[(df_with_res[\"Predictions\"] == df_with_res[\"FraudResult\"] )&(df_with_res[\"FraudResult\"]==0)].count()}')\n",
    "print(f'Nombre de Fraude dans le dataset : {val_y1.value_counts()[1]}')\n",
    "print(f'Nombre total : {df_with_res.Predictions.count()}')\n",
    "print(f'MAE : {mean_absolute_error(val_y1, predicted_first_model)}')\n",
    "print(df_with_res[[\"FraudResult\",\"Predictions\"]][(df_with_res[\"Predictions\"] != df_with_res[\"FraudResult\"] )])\n",
    "df_with_res.head(10)\n"
   ]
  },
  {
   "cell_type": "code",
   "execution_count": 15,
   "id": "444f62bf",
   "metadata": {},
   "outputs": [
    {
     "ename": "TypeError",
     "evalue": "'DataFrame' object is not callable",
     "output_type": "error",
     "traceback": [
      "\u001b[1;31m---------------------------------------------------------------------------\u001b[0m",
      "\u001b[1;31mTypeError\u001b[0m                                 Traceback (most recent call last)",
      "Cell \u001b[1;32mIn[15], line 1\u001b[0m\n\u001b[1;32m----> 1\u001b[0m rep \u001b[39m=\u001b[39m report(val_y1, predicted_first_model, \u001b[39m\"\u001b[39;49m\u001b[39mDecision Tree Classifier4\u001b[39;49m\u001b[39m\"\u001b[39;49m, \u001b[39m\"\u001b[39;49m\u001b[39mfirst simple model\u001b[39;49m\u001b[39m\"\u001b[39;49m, csvw \u001b[39m=\u001b[39;49m \u001b[39mTrue\u001b[39;49;00m)\n\u001b[0;32m      2\u001b[0m rep\n",
      "\u001b[1;31mTypeError\u001b[0m: 'DataFrame' object is not callable"
     ]
    }
   ],
   "source": [
    "rep = report(val_y1, predicted_first_model, \"Decision Tree Classifier4\", \"first simple model\", csvw = True)\n",
    "rep\n"
   ]
  },
  {
   "cell_type": "code",
   "execution_count": 6,
   "id": "9870ac1d",
   "metadata": {},
   "outputs": [
    {
     "data": {
      "text/plain": [
       "numpy.float64"
      ]
     },
     "execution_count": 6,
     "metadata": {},
     "output_type": "execute_result"
    }
   ],
   "source": [
    "p = precision(val_y1, predicted_first_model)\n",
    "r = recall(val_y1, predicted_first_model)\n",
    "f = f1score(val_y1, predicted_first_model)\n",
    "l = logloss(val_y1, predicted_first_model)\n",
    "m = mcc(val_y1, predicted_first_model)\n",
    "type(p)"
   ]
  },
  {
   "cell_type": "code",
   "execution_count": 14,
   "id": "b2a0e427",
   "metadata": {},
   "outputs": [
    {
     "name": "stdout",
     "output_type": "stream",
     "text": [
      "    Unnamed: 0                      Model         Description   \n",
      "0            0                        NaN          Table init  \\\n",
      "1            0  Decision Tree Classifier4  first simple model   \n",
      "2            0  Decision Tree Classifier4  first simple model   \n",
      "3            0  Decision Tree Classifier4  first simple model   \n",
      "4            0  Decision Tree Classifier4  first simple model   \n",
      "5            0  Decision Tree Classifier4  first simple model   \n",
      "6            0  Decision Tree Classifier4  first simple model   \n",
      "7            0  Decision Tree Classifier4  first simple model   \n",
      "8            0  Decision Tree Classifier4  first simple model   \n",
      "9            0  Decision Tree Classifier4  first simple model   \n",
      "10           0  Decision Tree Classifier4  first simple model   \n",
      "11           0  Decision Tree Classifier4  first simple model   \n",
      "12           0  Decision Tree Classifier4  first simple model   \n",
      "13           0  Decision Tree Classifier4  first simple model   \n",
      "14           0  Decision Tree Classifier4  first simple model   \n",
      "15           0  Decision Tree Classifier4  first simple model   \n",
      "16           0  Decision Tree Classifier4  first simple model   \n",
      "17           0  Decision Tree Classifier4  first simple model   \n",
      "18           0  Decision Tree Classifier4  first simple model   \n",
      "19           0  Decision Tree Classifier4  first simple model   \n",
      "20           0  Decision Tree Classifier4  first simple model   \n",
      "\n",
      "                          Date  Precision  Recall  F1-score   LogLoss   \n",
      "0   2023-04-26 13:47:36.765464   0.000000   0.000  0.000000  0.000000  \\\n",
      "1   2023-04-26 13:47:43.052645   0.916667   0.825  0.868421  0.015071   \n",
      "2   2023-04-26 13:48:20.185947   0.916667   0.825  0.868421  0.015071   \n",
      "3   2023-04-26 13:49:51.310670   0.916667   0.825  0.868421  0.015071   \n",
      "4   2023-04-26 13:51:04.857482   0.916667   0.825  0.868421  0.015071   \n",
      "5   2023-04-26 13:51:07.352628   0.916667   0.825  0.868421  0.015071   \n",
      "6   2023-04-26 13:51:08.129802   0.916667   0.825  0.868421  0.015071   \n",
      "7   2023-04-26 13:51:08.702653   0.916667   0.825  0.868421  0.015071   \n",
      "8   2023-04-26 13:51:09.205955   0.916667   0.825  0.868421  0.015071   \n",
      "9   2023-04-26 13:51:09.968942   0.916667   0.825  0.868421  0.015071   \n",
      "10  2023-04-26 13:51:10.516252   0.916667   0.825  0.868421  0.015071   \n",
      "11  2023-04-26 13:51:15.248624   0.916667   0.825  0.868421  0.015071   \n",
      "12  2023-04-26 13:51:16.261162   0.916667   0.825  0.868421  0.015071   \n",
      "13  2023-04-26 13:51:16.613453   0.916667   0.825  0.868421  0.015071   \n",
      "14  2023-04-26 13:51:17.018224   0.916667   0.825  0.868421  0.015071   \n",
      "15  2023-04-26 13:51:26.263755   0.916667   0.825  0.868421  0.015071   \n",
      "16  2023-04-26 13:51:26.341159   0.916667   0.825  0.868421  0.015071   \n",
      "17  2023-04-26 13:53:29.997921   3.000000   3.000  3.000000  3.000000   \n",
      "18  2023-04-26 13:53:30.075868   3.000000   3.000  3.000000  3.000000   \n",
      "19  2023-04-26 13:55:12.800459   0.916667   0.825  0.868421  0.015071   \n",
      "20  2023-04-26 14:00:44.017382   0.916667   0.825  0.868421  0.015071   \n",
      "\n",
      "         Mcc  \n",
      "0   0.000000  \n",
      "1   0.869421  \n",
      "2   0.869421  \n",
      "3   0.869421  \n",
      "4   0.869421  \n",
      "5   0.869421  \n",
      "6   0.869421  \n",
      "7   0.869421  \n",
      "8   0.869421  \n",
      "9   0.869421  \n",
      "10  0.869421  \n",
      "11  0.869421  \n",
      "12  0.869421  \n",
      "13  0.869421  \n",
      "14  0.869421  \n",
      "15  0.869421  \n",
      "16  0.869421  \n",
      "17  3.000000  \n",
      "18  3.000000  \n",
      "19  0.869421  \n",
      "20  0.869421  \n",
      "Model           object\n",
      "Description     object\n",
      "Date            object\n",
      "Precision      float64\n",
      "Recall         float64\n",
      "F1-score       float64\n",
      "LogLoss        float64\n",
      "Mcc            float64\n",
      "dtype: object\n",
      "columns : Index(['Model', 'Description', 'Date', 'Precision', 'Recall', 'F1-score',\n",
      "       'LogLoss', 'Mcc'],\n",
      "      dtype='object')\n"
     ]
    },
    {
     "data": {
      "text/html": [
       "<div>\n",
       "<style scoped>\n",
       "    .dataframe tbody tr th:only-of-type {\n",
       "        vertical-align: middle;\n",
       "    }\n",
       "\n",
       "    .dataframe tbody tr th {\n",
       "        vertical-align: top;\n",
       "    }\n",
       "\n",
       "    .dataframe thead th {\n",
       "        text-align: right;\n",
       "    }\n",
       "</style>\n",
       "<table border=\"1\" class=\"dataframe\">\n",
       "  <thead>\n",
       "    <tr style=\"text-align: right;\">\n",
       "      <th></th>\n",
       "      <th>Model</th>\n",
       "      <th>Description</th>\n",
       "      <th>Date</th>\n",
       "      <th>Precision</th>\n",
       "      <th>Recall</th>\n",
       "      <th>F1-score</th>\n",
       "      <th>LogLoss</th>\n",
       "      <th>Mcc</th>\n",
       "    </tr>\n",
       "  </thead>\n",
       "  <tbody>\n",
       "    <tr>\n",
       "      <th>0</th>\n",
       "      <td>NaN</td>\n",
       "      <td>Table init</td>\n",
       "      <td>2023-04-26 13:47:36.765464</td>\n",
       "      <td>0.000000</td>\n",
       "      <td>0.000</td>\n",
       "      <td>0.000000</td>\n",
       "      <td>0.000000</td>\n",
       "      <td>0.000000</td>\n",
       "    </tr>\n",
       "    <tr>\n",
       "      <th>18</th>\n",
       "      <td>Decision Tree Classifier4</td>\n",
       "      <td>first simple model</td>\n",
       "      <td>2023-04-26 13:53:30.075868</td>\n",
       "      <td>3.000000</td>\n",
       "      <td>3.000</td>\n",
       "      <td>3.000000</td>\n",
       "      <td>3.000000</td>\n",
       "      <td>3.000000</td>\n",
       "    </tr>\n",
       "    <tr>\n",
       "      <th>20</th>\n",
       "      <td>Decision Tree Classifier4</td>\n",
       "      <td>first simple model</td>\n",
       "      <td>2023-04-26 14:00:44.017382</td>\n",
       "      <td>0.916667</td>\n",
       "      <td>0.825</td>\n",
       "      <td>0.868421</td>\n",
       "      <td>0.015071</td>\n",
       "      <td>0.869421</td>\n",
       "    </tr>\n",
       "  </tbody>\n",
       "</table>\n",
       "</div>"
      ],
      "text/plain": [
       "                        Model         Description                        Date   \n",
       "0                         NaN          Table init  2023-04-26 13:47:36.765464  \\\n",
       "18  Decision Tree Classifier4  first simple model  2023-04-26 13:53:30.075868   \n",
       "20  Decision Tree Classifier4  first simple model  2023-04-26 14:00:44.017382   \n",
       "\n",
       "    Precision  Recall  F1-score   LogLoss       Mcc  \n",
       "0    0.000000   0.000  0.000000  0.000000  0.000000  \n",
       "18   3.000000   3.000  3.000000  3.000000  3.000000  \n",
       "20   0.916667   0.825  0.868421  0.015071  0.869421  "
      ]
     },
     "execution_count": 14,
     "metadata": {},
     "output_type": "execute_result"
    }
   ],
   "source": [
    "report =showreportcsv()\n",
    "report"
   ]
  },
  {
   "cell_type": "code",
   "execution_count": null,
   "id": "5ea8b650",
   "metadata": {},
   "outputs": [],
   "source": []
  },
  {
   "cell_type": "code",
   "execution_count": 8,
   "id": "2ea0e7fa",
   "metadata": {},
   "outputs": [
    {
     "data": {
      "text/plain": [
       "0"
      ]
     },
     "execution_count": 8,
     "metadata": {},
     "output_type": "execute_result"
    }
   ],
   "source": [
    "df3 = report[(report[\"Model\"]==\"Decision Tree Classifier\") & (report[\"Description\"]==\"first simple model\")].shape[0]\n",
    "df3"
   ]
  },
  {
   "cell_type": "code",
   "execution_count": 9,
   "id": "4bf18967",
   "metadata": {},
   "outputs": [
    {
     "name": "stdout",
     "output_type": "stream",
     "text": [
      "23873 3 7 33\n"
     ]
    }
   ],
   "source": [
    "cm = confusion_matrix(val_y1, predicted_first_model)\n",
    "tn, fp, fn, tp = cm.ravel()\n",
    "print(tn, fp, fn, tp)"
   ]
  },
  {
   "cell_type": "markdown",
   "id": "e0453c3f",
   "metadata": {},
   "source": [
    "Ici va expérimenter avec le nombre de noeud maximum et on voit que ça ne change rien. Est-ce que c'est à cause de la Régression ? "
   ]
  },
  {
   "cell_type": "code",
   "execution_count": 10,
   "id": "d4388a62",
   "metadata": {},
   "outputs": [
    {
     "name": "stdout",
     "output_type": "stream",
     "text": [
      "Max leaf nodes: 5  \t\t Mean Absolute Error:  0\n",
      "Max leaf nodes: 50  \t\t Mean Absolute Error:  0\n",
      "Max leaf nodes: 500  \t\t Mean Absolute Error:  0\n",
      "Max leaf nodes: 5000  \t\t Mean Absolute Error:  0\n"
     ]
    }
   ],
   "source": [
    "def get_mae(max_leaf_nodes, train_X, val_X, train_y, val_y):\n",
    "    model = DecisionTreeClassifier(max_leaf_nodes=max_leaf_nodes, random_state=1)\n",
    "    model.fit(train_X, train_y)\n",
    "    preds_val = model.predict(val_X)\n",
    "    mae = mean_absolute_error(val_y, preds_val)\n",
    "    return(mae)\n",
    "\n",
    "for max_leaf_nodes in [5, 50, 500, 5000]:\n",
    "    my_mae = get_mae(max_leaf_nodes, train_X1, val_X1, train_y1, val_y1)\n",
    "    print(\"Max leaf nodes: %d  \\t\\t Mean Absolute Error:  %d\" %(max_leaf_nodes, my_mae))"
   ]
  },
  {
   "cell_type": "code",
   "execution_count": 11,
   "id": "1a06cdce",
   "metadata": {},
   "outputs": [
    {
     "data": {
      "text/plain": [
       "0"
      ]
     },
     "execution_count": 11,
     "metadata": {},
     "output_type": "execute_result"
    }
   ],
   "source": [
    "df_with_res.Predictions[(df_with_res[\"Predictions\"] > 0 )& (df_with_res[\"Predictions\"]<1)].count()"
   ]
  },
  {
   "cell_type": "markdown",
   "id": "2b55f175",
   "metadata": {},
   "source": [
    "## Random Forest Regressor"
   ]
  },
  {
   "cell_type": "code",
   "execution_count": 12,
   "id": "32abdbb1",
   "metadata": {},
   "outputs": [
    {
     "name": "stdout",
     "output_type": "stream",
     "text": [
      "0.0004181301220939957\n"
     ]
    }
   ],
   "source": [
    "forest_model = RandomForestClassifier(random_state=1)\n",
    "forest_model.fit(train_X1, train_y1)\n",
    "preds = forest_model.predict(val_X1)\n",
    "print(mean_absolute_error(val_y1, preds))"
   ]
  },
  {
   "cell_type": "code",
   "execution_count": 13,
   "id": "1a715d53",
   "metadata": {},
   "outputs": [
    {
     "name": "stdout",
     "output_type": "stream",
     "text": [
      "Model 1 MAE: 0\n",
      "Model 2 MAE: 0\n",
      "Model 3 MAE: 0\n",
      "Model 4 MAE: 0\n",
      "Model 5 MAE: 0\n"
     ]
    }
   ],
   "source": [
    "model_1 = RandomForestClassifier(n_estimators=50, random_state=0)\n",
    "model_2 = RandomForestClassifier(n_estimators=100, random_state=0)\n",
    "model_3 = RandomForestClassifier(n_estimators=100, random_state=0)\n",
    "model_4 = RandomForestClassifier(n_estimators=200, min_samples_split=20, random_state=0)\n",
    "model_5 = RandomForestClassifier(n_estimators=100, max_depth=7, random_state=0)\n",
    "\n",
    "models = [model_1, model_2, model_3, model_4, model_5]\n",
    "\n",
    "# Function for comparing different models\n",
    "def score_model(model, X_t=train_X1, X_v=val_X1, y_t=train_y1, y_v=val_y1):\n",
    "    model.fit(X_t, y_t)\n",
    "    preds = model.predict(X_v)\n",
    "    return mean_absolute_error(y_v, preds)\n",
    "\n",
    "for i in range(0, len(models)):\n",
    "    mae = score_model(models[i])\n",
    "    print(\"Model %d MAE: %d\" % (i+1, mae))"
   ]
  }
 ],
 "metadata": {
  "kernelspec": {
   "display_name": "Python 3 (ipykernel)",
   "language": "python",
   "name": "python3"
  },
  "language_info": {
   "codemirror_mode": {
    "name": "ipython",
    "version": 3
   },
   "file_extension": ".py",
   "mimetype": "text/x-python",
   "name": "python",
   "nbconvert_exporter": "python",
   "pygments_lexer": "ipython3",
   "version": "3.9.16"
  }
 },
 "nbformat": 4,
 "nbformat_minor": 5
}
