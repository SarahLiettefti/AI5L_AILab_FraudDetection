{
 "cells": [
  {
   "cell_type": "markdown",
   "id": "d6472181",
   "metadata": {},
   "source": [
    "Sources : \n",
    "https://scikit-learn.org/stable/supervised_learning.html\n",
    "\n",
    "### Libraries"
   ]
  },
  {
   "cell_type": "code",
   "execution_count": 1,
   "id": "7cabe2d8",
   "metadata": {},
   "outputs": [],
   "source": [
    "import pandas as pd\n",
    "from sklearn.tree import DecisionTreeRegressor, DecisionTreeClassifier\n",
    "import numpy as np\n",
    "from sklearn.metrics import mean_absolute_error\n",
    "from sklearn.model_selection import train_test_split\n",
    "from sklearn.ensemble import RandomForestClassifier"
   ]
  },
  {
   "cell_type": "markdown",
   "id": "8024b072",
   "metadata": {},
   "source": [
    "### Data Loading"
   ]
  },
  {
   "cell_type": "code",
   "execution_count": 2,
   "id": "52285eda",
   "metadata": {},
   "outputs": [],
   "source": [
    "def_feature = pd.read_csv(\"input/Xente_Variable_Definitions.csv\")\n",
    "data = pd.read_csv(\"input/training.csv\")\n",
    "X_test = pd.read_csv(\"input/test.csv\")\n",
    "sample_submission = pd.read_csv(\"input/sample_submission.csv\")\n",
    "\n",
    "data = data.dropna(axis=0) #Drop observations/rows with missing values\n",
    "y = data.FraudResult #The target label\n",
    "X = data.copy()\n",
    "X.drop(['FraudResult'], axis=1, inplace=True) #Only the features data\n",
    "train_X, val_X, train_y, val_y = train_test_split(X, y, random_state = 0)\n",
    "cols_cat = list(data.dtypes[data.dtypes==\"object\"].index) #liste des feature categorical"
   ]
  },
  {
   "cell_type": "code",
   "execution_count": 3,
   "id": "a08e148b",
   "metadata": {},
   "outputs": [
    {
     "data": {
      "text/plain": [
       "Index(['TransactionId', 'BatchId', 'AccountId', 'SubscriptionId', 'CustomerId',\n",
       "       'CurrencyCode', 'CountryCode', 'ProviderId', 'ProductId',\n",
       "       'ProductCategory', 'ChannelId', 'Amount', 'Value',\n",
       "       'TransactionStartTime', 'PricingStrategy', 'FraudResult'],\n",
       "      dtype='object')"
      ]
     },
     "execution_count": 3,
     "metadata": {},
     "output_type": "execute_result"
    }
   ],
   "source": [
    "data.columns"
   ]
  },
  {
   "cell_type": "code",
   "execution_count": 4,
   "id": "141dcf3b",
   "metadata": {},
   "outputs": [
    {
     "data": {
      "text/html": [
       "<div>\n",
       "<style scoped>\n",
       "    .dataframe tbody tr th:only-of-type {\n",
       "        vertical-align: middle;\n",
       "    }\n",
       "\n",
       "    .dataframe tbody tr th {\n",
       "        vertical-align: top;\n",
       "    }\n",
       "\n",
       "    .dataframe thead th {\n",
       "        text-align: right;\n",
       "    }\n",
       "</style>\n",
       "<table border=\"1\" class=\"dataframe\">\n",
       "  <thead>\n",
       "    <tr style=\"text-align: right;\">\n",
       "      <th></th>\n",
       "      <th>CountryCode</th>\n",
       "      <th>Amount</th>\n",
       "      <th>Value</th>\n",
       "      <th>PricingStrategy</th>\n",
       "    </tr>\n",
       "  </thead>\n",
       "  <tbody>\n",
       "    <tr>\n",
       "      <th>count</th>\n",
       "      <td>95662.0</td>\n",
       "      <td>9.566200e+04</td>\n",
       "      <td>9.566200e+04</td>\n",
       "      <td>95662.000000</td>\n",
       "    </tr>\n",
       "    <tr>\n",
       "      <th>mean</th>\n",
       "      <td>256.0</td>\n",
       "      <td>6.717846e+03</td>\n",
       "      <td>9.900584e+03</td>\n",
       "      <td>2.255974</td>\n",
       "    </tr>\n",
       "    <tr>\n",
       "      <th>std</th>\n",
       "      <td>0.0</td>\n",
       "      <td>1.233068e+05</td>\n",
       "      <td>1.231221e+05</td>\n",
       "      <td>0.732924</td>\n",
       "    </tr>\n",
       "    <tr>\n",
       "      <th>min</th>\n",
       "      <td>256.0</td>\n",
       "      <td>-1.000000e+06</td>\n",
       "      <td>2.000000e+00</td>\n",
       "      <td>0.000000</td>\n",
       "    </tr>\n",
       "    <tr>\n",
       "      <th>25%</th>\n",
       "      <td>256.0</td>\n",
       "      <td>-5.000000e+01</td>\n",
       "      <td>2.750000e+02</td>\n",
       "      <td>2.000000</td>\n",
       "    </tr>\n",
       "    <tr>\n",
       "      <th>50%</th>\n",
       "      <td>256.0</td>\n",
       "      <td>1.000000e+03</td>\n",
       "      <td>1.000000e+03</td>\n",
       "      <td>2.000000</td>\n",
       "    </tr>\n",
       "    <tr>\n",
       "      <th>75%</th>\n",
       "      <td>256.0</td>\n",
       "      <td>2.800000e+03</td>\n",
       "      <td>5.000000e+03</td>\n",
       "      <td>2.000000</td>\n",
       "    </tr>\n",
       "    <tr>\n",
       "      <th>max</th>\n",
       "      <td>256.0</td>\n",
       "      <td>9.880000e+06</td>\n",
       "      <td>9.880000e+06</td>\n",
       "      <td>4.000000</td>\n",
       "    </tr>\n",
       "  </tbody>\n",
       "</table>\n",
       "</div>"
      ],
      "text/plain": [
       "       CountryCode        Amount         Value  PricingStrategy\n",
       "count      95662.0  9.566200e+04  9.566200e+04     95662.000000\n",
       "mean         256.0  6.717846e+03  9.900584e+03         2.255974\n",
       "std            0.0  1.233068e+05  1.231221e+05         0.732924\n",
       "min          256.0 -1.000000e+06  2.000000e+00         0.000000\n",
       "25%          256.0 -5.000000e+01  2.750000e+02         2.000000\n",
       "50%          256.0  1.000000e+03  1.000000e+03         2.000000\n",
       "75%          256.0  2.800000e+03  5.000000e+03         2.000000\n",
       "max          256.0  9.880000e+06  9.880000e+06         4.000000"
      ]
     },
     "execution_count": 4,
     "metadata": {},
     "output_type": "execute_result"
    }
   ],
   "source": [
    "X.describe()"
   ]
  },
  {
   "cell_type": "code",
   "execution_count": 5,
   "id": "b166375e",
   "metadata": {},
   "outputs": [
    {
     "data": {
      "text/html": [
       "<div>\n",
       "<style scoped>\n",
       "    .dataframe tbody tr th:only-of-type {\n",
       "        vertical-align: middle;\n",
       "    }\n",
       "\n",
       "    .dataframe tbody tr th {\n",
       "        vertical-align: top;\n",
       "    }\n",
       "\n",
       "    .dataframe thead th {\n",
       "        text-align: right;\n",
       "    }\n",
       "</style>\n",
       "<table border=\"1\" class=\"dataframe\">\n",
       "  <thead>\n",
       "    <tr style=\"text-align: right;\">\n",
       "      <th></th>\n",
       "      <th>TransactionId</th>\n",
       "      <th>BatchId</th>\n",
       "      <th>AccountId</th>\n",
       "      <th>SubscriptionId</th>\n",
       "      <th>CustomerId</th>\n",
       "      <th>CurrencyCode</th>\n",
       "      <th>ProviderId</th>\n",
       "      <th>ProductId</th>\n",
       "      <th>ProductCategory</th>\n",
       "      <th>ChannelId</th>\n",
       "      <th>TransactionStartTime</th>\n",
       "    </tr>\n",
       "  </thead>\n",
       "  <tbody>\n",
       "    <tr>\n",
       "      <th>count</th>\n",
       "      <td>95662</td>\n",
       "      <td>95662</td>\n",
       "      <td>95662</td>\n",
       "      <td>95662</td>\n",
       "      <td>95662</td>\n",
       "      <td>95662</td>\n",
       "      <td>95662</td>\n",
       "      <td>95662</td>\n",
       "      <td>95662</td>\n",
       "      <td>95662</td>\n",
       "      <td>95662</td>\n",
       "    </tr>\n",
       "    <tr>\n",
       "      <th>unique</th>\n",
       "      <td>95662</td>\n",
       "      <td>94809</td>\n",
       "      <td>3633</td>\n",
       "      <td>3627</td>\n",
       "      <td>3742</td>\n",
       "      <td>1</td>\n",
       "      <td>6</td>\n",
       "      <td>23</td>\n",
       "      <td>9</td>\n",
       "      <td>4</td>\n",
       "      <td>94556</td>\n",
       "    </tr>\n",
       "    <tr>\n",
       "      <th>top</th>\n",
       "      <td>TransactionId_76871</td>\n",
       "      <td>BatchId_67019</td>\n",
       "      <td>AccountId_4841</td>\n",
       "      <td>SubscriptionId_3829</td>\n",
       "      <td>CustomerId_7343</td>\n",
       "      <td>UGX</td>\n",
       "      <td>ProviderId_4</td>\n",
       "      <td>ProductId_6</td>\n",
       "      <td>financial_services</td>\n",
       "      <td>ChannelId_3</td>\n",
       "      <td>2018-12-24T16:30:13Z</td>\n",
       "    </tr>\n",
       "    <tr>\n",
       "      <th>freq</th>\n",
       "      <td>1</td>\n",
       "      <td>28</td>\n",
       "      <td>30893</td>\n",
       "      <td>32630</td>\n",
       "      <td>4091</td>\n",
       "      <td>95662</td>\n",
       "      <td>38189</td>\n",
       "      <td>32635</td>\n",
       "      <td>45405</td>\n",
       "      <td>56935</td>\n",
       "      <td>17</td>\n",
       "    </tr>\n",
       "  </tbody>\n",
       "</table>\n",
       "</div>"
      ],
      "text/plain": [
       "              TransactionId        BatchId       AccountId  \\\n",
       "count                 95662          95662           95662   \n",
       "unique                95662          94809            3633   \n",
       "top     TransactionId_76871  BatchId_67019  AccountId_4841   \n",
       "freq                      1             28           30893   \n",
       "\n",
       "             SubscriptionId       CustomerId CurrencyCode    ProviderId  \\\n",
       "count                 95662            95662        95662         95662   \n",
       "unique                 3627             3742            1             6   \n",
       "top     SubscriptionId_3829  CustomerId_7343          UGX  ProviderId_4   \n",
       "freq                  32630             4091        95662         38189   \n",
       "\n",
       "          ProductId     ProductCategory    ChannelId  TransactionStartTime  \n",
       "count         95662               95662        95662                 95662  \n",
       "unique           23                   9            4                 94556  \n",
       "top     ProductId_6  financial_services  ChannelId_3  2018-12-24T16:30:13Z  \n",
       "freq          32635               45405        56935                    17  "
      ]
     },
     "execution_count": 5,
     "metadata": {},
     "output_type": "execute_result"
    }
   ],
   "source": [
    "X.describe(include=object, exclude=[np.int64, np.float64])"
   ]
  },
  {
   "cell_type": "markdown",
   "id": "56fc0204",
   "metadata": {},
   "source": [
    "# Decision Tree Classifier\n",
    "Very simple model with no feature engineering to have a reference of performance when we improve out model. The missing values are droped for simplicity. At first, the categorical values are also droped. We want to do Binary Classification\n",
    "Utilise le MAE pour évaluer les performance mais est ce qu'il donne une bonne idée puisque l'output est entre 0 et 1 et donc ne fait que des moyenne de petits nombre < 1 ? "
   ]
  },
  {
   "cell_type": "code",
   "execution_count": 6,
   "id": "769e60d1",
   "metadata": {},
   "outputs": [
    {
     "data": {
      "text/html": [
       "<div>\n",
       "<style scoped>\n",
       "    .dataframe tbody tr th:only-of-type {\n",
       "        vertical-align: middle;\n",
       "    }\n",
       "\n",
       "    .dataframe tbody tr th {\n",
       "        vertical-align: top;\n",
       "    }\n",
       "\n",
       "    .dataframe thead th {\n",
       "        text-align: right;\n",
       "    }\n",
       "</style>\n",
       "<table border=\"1\" class=\"dataframe\">\n",
       "  <thead>\n",
       "    <tr style=\"text-align: right;\">\n",
       "      <th></th>\n",
       "      <th>CountryCode</th>\n",
       "      <th>Amount</th>\n",
       "      <th>Value</th>\n",
       "      <th>PricingStrategy</th>\n",
       "    </tr>\n",
       "  </thead>\n",
       "  <tbody>\n",
       "    <tr>\n",
       "      <th>43878</th>\n",
       "      <td>256</td>\n",
       "      <td>2500.0</td>\n",
       "      <td>2500</td>\n",
       "      <td>2</td>\n",
       "    </tr>\n",
       "    <tr>\n",
       "      <th>55031</th>\n",
       "      <td>256</td>\n",
       "      <td>1000.0</td>\n",
       "      <td>1000</td>\n",
       "      <td>2</td>\n",
       "    </tr>\n",
       "    <tr>\n",
       "      <th>28483</th>\n",
       "      <td>256</td>\n",
       "      <td>2000.0</td>\n",
       "      <td>2000</td>\n",
       "      <td>2</td>\n",
       "    </tr>\n",
       "    <tr>\n",
       "      <th>7328</th>\n",
       "      <td>256</td>\n",
       "      <td>-1000.0</td>\n",
       "      <td>1000</td>\n",
       "      <td>2</td>\n",
       "    </tr>\n",
       "    <tr>\n",
       "      <th>18860</th>\n",
       "      <td>256</td>\n",
       "      <td>-5000.0</td>\n",
       "      <td>5000</td>\n",
       "      <td>2</td>\n",
       "    </tr>\n",
       "  </tbody>\n",
       "</table>\n",
       "</div>"
      ],
      "text/plain": [
       "       CountryCode  Amount  Value  PricingStrategy\n",
       "43878          256  2500.0   2500                2\n",
       "55031          256  1000.0   1000                2\n",
       "28483          256  2000.0   2000                2\n",
       "7328           256 -1000.0   1000                2\n",
       "18860          256 -5000.0   5000                2"
      ]
     },
     "execution_count": 6,
     "metadata": {},
     "output_type": "execute_result"
    }
   ],
   "source": [
    "train_y1 = train_y.copy()\n",
    "train_X1 = train_X.copy()\n",
    "val_y1 = val_y.copy()\n",
    "val_X1 = val_X.copy()\n",
    "train_X1.drop(cols_cat, axis=1, inplace=True) #Delete categorical data\n",
    "val_X1.drop(cols_cat, axis=1, inplace=True) #Delete categorical data\n",
    "#train_X1 = train_X.select_dtypes(exclude=['object'])\n",
    "#val_X1 = val_X.select_dtypes(exclude=['object'])\n",
    "train_X1.head()"
   ]
  },
  {
   "cell_type": "code",
   "execution_count": 17,
   "id": "628f94da",
   "metadata": {},
   "outputs": [
    {
     "name": "stdout",
     "output_type": "stream",
     "text": [
      "Mean Absolute Error : 0.0004181301220939957\n",
      "Nombre de prédictions correcte : 23906\n",
      "Nombre de prédictions incorrecte : 10\n",
      "Nombre de Fraude dans le dataset : 40\n",
      "Nombre total : 23916\n"
     ]
    },
    {
     "data": {
      "text/html": [
       "<div>\n",
       "<style scoped>\n",
       "    .dataframe tbody tr th:only-of-type {\n",
       "        vertical-align: middle;\n",
       "    }\n",
       "\n",
       "    .dataframe tbody tr th {\n",
       "        vertical-align: top;\n",
       "    }\n",
       "\n",
       "    .dataframe thead th {\n",
       "        text-align: right;\n",
       "    }\n",
       "</style>\n",
       "<table border=\"1\" class=\"dataframe\">\n",
       "  <thead>\n",
       "    <tr style=\"text-align: right;\">\n",
       "      <th></th>\n",
       "      <th>CountryCode</th>\n",
       "      <th>Amount</th>\n",
       "      <th>Value</th>\n",
       "      <th>PricingStrategy</th>\n",
       "      <th>FraudResult</th>\n",
       "      <th>Predictions</th>\n",
       "    </tr>\n",
       "  </thead>\n",
       "  <tbody>\n",
       "    <tr>\n",
       "      <th>69075</th>\n",
       "      <td>256</td>\n",
       "      <td>2000.0</td>\n",
       "      <td>2000</td>\n",
       "      <td>4</td>\n",
       "      <td>0</td>\n",
       "      <td>0</td>\n",
       "    </tr>\n",
       "    <tr>\n",
       "      <th>65709</th>\n",
       "      <td>256</td>\n",
       "      <td>1110.0</td>\n",
       "      <td>1110</td>\n",
       "      <td>2</td>\n",
       "      <td>0</td>\n",
       "      <td>0</td>\n",
       "    </tr>\n",
       "    <tr>\n",
       "      <th>5430</th>\n",
       "      <td>256</td>\n",
       "      <td>2000.0</td>\n",
       "      <td>2000</td>\n",
       "      <td>2</td>\n",
       "      <td>0</td>\n",
       "      <td>0</td>\n",
       "    </tr>\n",
       "    <tr>\n",
       "      <th>82375</th>\n",
       "      <td>256</td>\n",
       "      <td>-1000.0</td>\n",
       "      <td>1000</td>\n",
       "      <td>2</td>\n",
       "      <td>0</td>\n",
       "      <td>0</td>\n",
       "    </tr>\n",
       "    <tr>\n",
       "      <th>60896</th>\n",
       "      <td>256</td>\n",
       "      <td>1000.0</td>\n",
       "      <td>1000</td>\n",
       "      <td>2</td>\n",
       "      <td>0</td>\n",
       "      <td>0</td>\n",
       "    </tr>\n",
       "    <tr>\n",
       "      <th>6835</th>\n",
       "      <td>256</td>\n",
       "      <td>-496.0</td>\n",
       "      <td>496</td>\n",
       "      <td>2</td>\n",
       "      <td>0</td>\n",
       "      <td>0</td>\n",
       "    </tr>\n",
       "    <tr>\n",
       "      <th>7384</th>\n",
       "      <td>256</td>\n",
       "      <td>1500.0</td>\n",
       "      <td>1500</td>\n",
       "      <td>2</td>\n",
       "      <td>0</td>\n",
       "      <td>0</td>\n",
       "    </tr>\n",
       "    <tr>\n",
       "      <th>71953</th>\n",
       "      <td>256</td>\n",
       "      <td>7000.0</td>\n",
       "      <td>7000</td>\n",
       "      <td>2</td>\n",
       "      <td>0</td>\n",
       "      <td>0</td>\n",
       "    </tr>\n",
       "    <tr>\n",
       "      <th>5423</th>\n",
       "      <td>256</td>\n",
       "      <td>1000.0</td>\n",
       "      <td>1000</td>\n",
       "      <td>2</td>\n",
       "      <td>0</td>\n",
       "      <td>0</td>\n",
       "    </tr>\n",
       "    <tr>\n",
       "      <th>49255</th>\n",
       "      <td>256</td>\n",
       "      <td>1000.0</td>\n",
       "      <td>1000</td>\n",
       "      <td>2</td>\n",
       "      <td>0</td>\n",
       "      <td>0</td>\n",
       "    </tr>\n",
       "  </tbody>\n",
       "</table>\n",
       "</div>"
      ],
      "text/plain": [
       "       CountryCode  Amount  Value  PricingStrategy  FraudResult  Predictions\n",
       "69075          256  2000.0   2000                4            0            0\n",
       "65709          256  1110.0   1110                2            0            0\n",
       "5430           256  2000.0   2000                2            0            0\n",
       "82375          256 -1000.0   1000                2            0            0\n",
       "60896          256  1000.0   1000                2            0            0\n",
       "6835           256  -496.0    496                2            0            0\n",
       "7384           256  1500.0   1500                2            0            0\n",
       "71953          256  7000.0   7000                2            0            0\n",
       "5423           256  1000.0   1000                2            0            0\n",
       "49255          256  1000.0   1000                2            0            0"
      ]
     },
     "execution_count": 17,
     "metadata": {},
     "output_type": "execute_result"
    }
   ],
   "source": [
    "first_model_decision_tree = DecisionTreeClassifier(random_state=1)\n",
    "first_model_decision_tree.fit(train_X1, train_y1)\n",
    "predicted_first_model = first_model_decision_tree.predict(val_X1)\n",
    "\n",
    "df_with_res = val_X1.copy()\n",
    "df_with_res = df_with_res.join(val_y1.copy())\n",
    "df_with_res[\"Predictions\"] = list(predicted_first_model)\n",
    "print(f'Mean Absolute Error : {mean_absolute_error(val_y, predicted_first_model)}')\n",
    "print(f'Nombre de prédictions correcte : {df_with_res.Predictions[(df_with_res[\"Predictions\"] == df_with_res[\"FraudResult\"] )].count()}')\n",
    "print(f'Nombre de prédictions incorrecte : {df_with_res.Predictions[(df_with_res[\"Predictions\"] != df_with_res[\"FraudResult\"] )].count()}')\n",
    "print(f'Nombre de Fraude dans le dataset : {val_y1.value_counts()[1]}')\n",
    "print(f'Nombre total : {df_with_res.Predictions.count()}')\n",
    "df_with_res.head(10)"
   ]
  },
  {
   "cell_type": "markdown",
   "id": "e0453c3f",
   "metadata": {},
   "source": [
    "Ici va expérimenter avec le nombre de noeud maximum et on voit que ça ne change rien. Est-ce que c'est à cause de la Régression ? "
   ]
  },
  {
   "cell_type": "code",
   "execution_count": 8,
   "id": "d4388a62",
   "metadata": {},
   "outputs": [
    {
     "name": "stdout",
     "output_type": "stream",
     "text": [
      "Max leaf nodes: 5  \t\t Mean Absolute Error:  0\n",
      "Max leaf nodes: 50  \t\t Mean Absolute Error:  0\n",
      "Max leaf nodes: 500  \t\t Mean Absolute Error:  0\n",
      "Max leaf nodes: 5000  \t\t Mean Absolute Error:  0\n"
     ]
    }
   ],
   "source": [
    "def get_mae(max_leaf_nodes, train_X, val_X, train_y, val_y):\n",
    "    model = DecisionTreeClassifier(max_leaf_nodes=max_leaf_nodes, random_state=1)\n",
    "    model.fit(train_X, train_y)\n",
    "    preds_val = model.predict(val_X)\n",
    "    mae = mean_absolute_error(val_y, preds_val)\n",
    "    return(mae)\n",
    "\n",
    "for max_leaf_nodes in [5, 50, 500, 5000]:\n",
    "    my_mae = get_mae(max_leaf_nodes, train_X1, val_X1, train_y1, val_y1)\n",
    "    print(\"Max leaf nodes: %d  \\t\\t Mean Absolute Error:  %d\" %(max_leaf_nodes, my_mae))"
   ]
  },
  {
   "cell_type": "code",
   "execution_count": 9,
   "id": "1a06cdce",
   "metadata": {},
   "outputs": [
    {
     "data": {
      "text/plain": [
       "0"
      ]
     },
     "execution_count": 9,
     "metadata": {},
     "output_type": "execute_result"
    }
   ],
   "source": [
    "df_with_res.Predictions[(df_with_res[\"Predictions\"] > 0 )& (df_with_res[\"Predictions\"]<1)].count()"
   ]
  },
  {
   "cell_type": "markdown",
   "id": "2b55f175",
   "metadata": {},
   "source": [
    "## Random Forest Regressor"
   ]
  },
  {
   "cell_type": "code",
   "execution_count": 10,
   "id": "32abdbb1",
   "metadata": {},
   "outputs": [
    {
     "name": "stdout",
     "output_type": "stream",
     "text": [
      "0.0004181301220939957\n"
     ]
    }
   ],
   "source": [
    "forest_model = RandomForestClassifier(random_state=1)\n",
    "forest_model.fit(train_X1, train_y1)\n",
    "preds = forest_model.predict(val_X1)\n",
    "print(mean_absolute_error(val_y1, preds))"
   ]
  },
  {
   "cell_type": "code",
   "execution_count": 20,
   "id": "1a715d53",
   "metadata": {},
   "outputs": [
    {
     "name": "stdout",
     "output_type": "stream",
     "text": [
      "Model 1 MAE: 0\n",
      "Model 2 MAE: 0\n",
      "Model 3 MAE: 0\n",
      "Model 4 MAE: 0\n",
      "Model 5 MAE: 0\n"
     ]
    }
   ],
   "source": [
    "model_1 = RandomForestClassifier(n_estimators=50, random_state=0)\n",
    "model_2 = RandomForestClassifier(n_estimators=100, random_state=0)\n",
    "model_3 = RandomForestClassifier(n_estimators=100, random_state=0)\n",
    "model_4 = RandomForestClassifier(n_estimators=200, min_samples_split=20, random_state=0)\n",
    "model_5 = RandomForestClassifier(n_estimators=100, max_depth=7, random_state=0)\n",
    "\n",
    "models = [model_1, model_2, model_3, model_4, model_5]\n",
    "\n",
    "# Function for comparing different models\n",
    "def score_model(model, X_t=train_X1, X_v=val_X1, y_t=train_y1, y_v=val_y1):\n",
    "    model.fit(X_t, y_t)\n",
    "    preds = model.predict(X_v)\n",
    "    return mean_absolute_error(y_v, preds)\n",
    "\n",
    "for i in range(0, len(models)):\n",
    "    mae = score_model(models[i])\n",
    "    print(\"Model %d MAE: %d\" % (i+1, mae))"
   ]
  }
 ],
 "metadata": {
  "kernelspec": {
   "display_name": "Python 3 (ipykernel)",
   "language": "python",
   "name": "python3"
  },
  "language_info": {
   "codemirror_mode": {
    "name": "ipython",
    "version": 3
   },
   "file_extension": ".py",
   "mimetype": "text/x-python",
   "name": "python",
   "nbconvert_exporter": "python",
   "pygments_lexer": "ipython3",
   "version": "3.9.16"
  }
 },
 "nbformat": 4,
 "nbformat_minor": 5
}
