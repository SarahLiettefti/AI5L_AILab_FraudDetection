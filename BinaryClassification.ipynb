{
 "cells": [
  {
   "cell_type": "code",
   "execution_count": 2,
   "id": "8f76d8e0",
   "metadata": {},
   "outputs": [],
   "source": [
    "import pandas as pd\n",
    "import numpy as np\n",
    "from sklearn.metrics import mean_absolute_error\n",
    "import datetime as dt\n",
    "import matplotlib.pyplot as plt\n",
    "import seaborn as sns\n",
    "from DataCleaningScript import *\n",
    "from sklearn import metrics\n",
    "from sklearn.linear_model import LogisticRegression\n",
    "from sklearn.model_selection import train_test_split\n",
    "pd.set_option('max_colwidth', None)"
   ]
  },
  {
   "attachments": {},
   "cell_type": "markdown",
   "id": "67c08a73",
   "metadata": {},
   "source": [
    "# Binary Classification \n",
    "Notebook to test several binary classification and how to quantify their performance  \n",
    "Here are the popular algorithme :\n",
    "- Logistic Regression (https://towardsdatascience.com/python-scikit-learn-logistic-regression-classification-eb9c8de8938d)\n",
    "- k-Nearest Neighbors\n",
    "- Decision Trees\n",
    "- Support Vector Machine\n",
    "- Naive Bayes"
   ]
  },
  {
   "cell_type": "code",
   "execution_count": 3,
   "id": "9a32ecff",
   "metadata": {},
   "outputs": [],
   "source": [
    "my_data = pre_processing()\n",
    "train_X = my_data.train_X\n",
    "train_X = my_data.val_X\n",
    "train_X = my_data.train_y\n",
    "train_X = my_data.val_y"
   ]
  },
  {
   "cell_type": "code",
   "execution_count": null,
   "id": "6c6adda1",
   "metadata": {},
   "outputs": [],
   "source": []
  }
 ],
 "metadata": {
  "kernelspec": {
   "display_name": "Python 3 (ipykernel)",
   "language": "python",
   "name": "python3"
  },
  "language_info": {
   "codemirror_mode": {
    "name": "ipython",
    "version": 3
   },
   "file_extension": ".py",
   "mimetype": "text/x-python",
   "name": "python",
   "nbconvert_exporter": "python",
   "pygments_lexer": "ipython3",
   "version": "3.9.16"
  }
 },
 "nbformat": 4,
 "nbformat_minor": 5
}
